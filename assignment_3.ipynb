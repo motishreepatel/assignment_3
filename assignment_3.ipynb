{
 "cells": [
  {
   "cell_type": "code",
   "execution_count": null,
   "metadata": {},
   "outputs": [],
   "source": [
    "#Q1 - 1. Why are functions advantageous to have in your programs?\n",
    "#Answer:\n",
    "Below are few advantages of using functions in program:\n",
    "i - Reducing duplication of code\n",
    "ii - Improved reusability of code\n",
    "iii - clean and clear coding\n",
    "iv - Bigger problems are broken down into smaller problems."
   ]
  },
  {
   "cell_type": "code",
   "execution_count": null,
   "metadata": {},
   "outputs": [],
   "source": [
    "#Q2 - 2. When does the code in a function run: when it's specified or when it's called?\n",
    "#Answer:\n",
    "The code in a function runs when the function is called"
   ]
  },
  {
   "cell_type": "code",
   "execution_count": null,
   "metadata": {},
   "outputs": [],
   "source": [
    "#Q - 3. What statement creates a function?\n",
    "#Answer:\n",
    "def fun_name(arg1,arg2):\n",
    "    code goes here....."
   ]
  },
  {
   "cell_type": "code",
   "execution_count": null,
   "metadata": {},
   "outputs": [],
   "source": [
    "#Q - 4. What is the difference between a function and a function call?\n",
    "#Answer: \n",
    "Function:\n",
    "A function is a block of code that does a particular operation and returns a result.\n",
    "exp:\n",
    "def func(a,b):\n",
    "    return a+b\n",
    "\n",
    "Function call:\n",
    "A function call is the code that pass control to the funtion\n",
    "exp:\n",
    "print(func(2,4))"
   ]
  },
  {
   "cell_type": "code",
   "execution_count": null,
   "metadata": {},
   "outputs": [],
   "source": [
    "#Q - 5. How many global scopes are there in a Python program? How many local scopes?\n",
    "#Answer:\n",
    "There is typically one global scope in a python program.\n",
    "\n",
    "Regarding local scope, number of local scopes in a python program depends on number of functions and function calls and their nested structures."
   ]
  },
  {
   "cell_type": "code",
   "execution_count": null,
   "metadata": {},
   "outputs": [],
   "source": [
    "#Q - 6. What happens to variables in a local scope when the function call returns?\n",
    "#Answer:\n",
    "When a function call returns, the local scope associated with that function is destroyed and variables in local scope to that function are no longer accessible.\n",
    "The memory occupied by those variables are also released.\n"
   ]
  },
  {
   "cell_type": "code",
   "execution_count": null,
   "metadata": {},
   "outputs": [],
   "source": [
    "#Q - 7. What is the concept of a return value? Is it possible to have a return value in an expression?\n",
    "#Answer:\n",
    "The concept of a return value in programming refers to the value that a function or method provides back to the caller when it completes its execution.\n",
    "Also it is not possible to have a return value in an expression directly. The return statement is used explicitly to specify the value to be returned from a function."
   ]
  },
  {
   "cell_type": "code",
   "execution_count": null,
   "metadata": {},
   "outputs": [],
   "source": [
    "#Q - 8. If a function does not have a return statement, what is the return value of a call to that function?\n",
    "#Answer:\n",
    "If a function does not have a return statement,then the return value of a call to that function will be None."
   ]
  },
  {
   "cell_type": "code",
   "execution_count": 1,
   "metadata": {},
   "outputs": [
    {
     "name": "stdout",
     "output_type": "stream",
     "text": [
      "2\n",
      "10\n"
     ]
    }
   ],
   "source": [
    "#Q- 9. How do you make a function variable refer to the global variable?\n",
    "#Answer:\n",
    "#To make a function variable refer to the global variable, we need to use 'global' keyword\n",
    "#Exp:\n",
    "a = 2\n",
    "\n",
    "def modify_global():\n",
    "    global a\n",
    "    a = 10\n",
    "\n",
    "print(a)  # Output: 2\n",
    "modify_global()\n",
    "print(a)  # Output: 10"
   ]
  },
  {
   "cell_type": "code",
   "execution_count": 2,
   "metadata": {},
   "outputs": [
    {
     "name": "stdout",
     "output_type": "stream",
     "text": [
      "<class 'NoneType'>\n"
     ]
    }
   ],
   "source": [
    "#Q - 10. What is the data type of None?\n",
    "print(type(None))\n",
    "#Answer: So datatype of None is NoneType"
   ]
  },
  {
   "cell_type": "code",
   "execution_count": 3,
   "metadata": {},
   "outputs": [
    {
     "ename": "ModuleNotFoundError",
     "evalue": "No module named 'areallyourpetsnamederic'",
     "output_type": "error",
     "traceback": [
      "\u001b[0;31m---------------------------------------------------------------------------\u001b[0m",
      "\u001b[0;31mModuleNotFoundError\u001b[0m                       Traceback (most recent call last)",
      "Cell \u001b[0;32mIn[3], line 3\u001b[0m\n\u001b[1;32m      1\u001b[0m \u001b[38;5;66;03m#Q - 11. What does the sentence import areallyourpetsnamederic do?\u001b[39;00m\n\u001b[1;32m      2\u001b[0m \u001b[38;5;66;03m#Answer: \u001b[39;00m\n\u001b[0;32m----> 3\u001b[0m \u001b[38;5;28;01mimport\u001b[39;00m \u001b[38;5;21;01mareallyourpetsnamederic\u001b[39;00m\n",
      "\u001b[0;31mModuleNotFoundError\u001b[0m: No module named 'areallyourpetsnamederic'"
     ]
    }
   ],
   "source": [
    "#Q - 11. What does the sentence import areallyourpetsnamederic do?\n",
    "#Answer: \n",
    "import areallyourpetsnamederic\n",
    "#It is not a valid import statement and does not refer to an existing module or package.\n",
    "#Hence Python raised an error when we executed this statement."
   ]
  },
  {
   "cell_type": "code",
   "execution_count": null,
   "metadata": {},
   "outputs": [],
   "source": [
    "#Q - 12. If you had a bacon() feature in a spam module, what would you call it after importing spam?\n",
    "#Answer:\n",
    "import spam #importing spam module here\n",
    "#to call bacon() function after importing spam module\n",
    "spam.bacon()"
   ]
  },
  {
   "cell_type": "code",
   "execution_count": null,
   "metadata": {},
   "outputs": [],
   "source": [
    "#Q - 13. What can you do to save a programme from crashing if it encounters an error?\n",
    "#Answer:\n",
    "To prevent a program from crashing when it encounters an error, we can use error handling techniques to catch and handle exceptions gracefully. Exception handling allows us \n",
    "to anticipate potential errors, handle them appropriately, and ensure that your program continues running smoothly."
   ]
  },
  {
   "cell_type": "code",
   "execution_count": null,
   "metadata": {},
   "outputs": [],
   "source": [
    "#Q - 14. What is the purpose of the try clause? What is the purpose of the except clause?\n",
    "#Answer:\n",
    "i. The try and except clauses in Python are used for exception handling\n",
    "ii. The try clause is used to enclose a block of code that may potentially raise an exception. If an exception occurs in one try block, then the execution of that block is \n",
    "immediately interrupted and the program flow jumps to the corresponding except block if defined. If not, it propagaes the execution to the outer try block.\n",
    "iii. The except clause is used to define the actions or code that should be executed when a specific exception is raised within the associated try block."
   ]
  }
 ],
 "metadata": {
  "kernelspec": {
   "display_name": "Python 3.9.6 64-bit",
   "language": "python",
   "name": "python3"
  },
  "language_info": {
   "codemirror_mode": {
    "name": "ipython",
    "version": 3
   },
   "file_extension": ".py",
   "mimetype": "text/x-python",
   "name": "python",
   "nbconvert_exporter": "python",
   "pygments_lexer": "ipython3",
   "version": "3.9.6"
  },
  "orig_nbformat": 4,
  "vscode": {
   "interpreter": {
    "hash": "31f2aee4e71d21fbe5cf8b01ff0e069b9275f58929596ceb00d14d90e3e16cd6"
   }
  }
 },
 "nbformat": 4,
 "nbformat_minor": 2
}
